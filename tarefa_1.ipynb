{
  "nbformat": 4,
  "nbformat_minor": 0,
  "metadata": {
    "colab": {
      "provenance": [],
      "authorship_tag": "ABX9TyNzaYKjnpGwUzzks5V7SmjW"
    },
    "kernelspec": {
      "name": "python3",
      "display_name": "Python 3"
    },
    "language_info": {
      "name": "python"
    }
  },
  "cells": [
    {
      "cell_type": "code",
      "source": [
        "def calculator():\n",
        "    while True:\n",
        "        # Recebendo dois números do usuário\n",
        "        num1 = input(\"Digite o primeiro número: \")\n",
        "        num2 = input(\"Digite o segundo número: \")\n",
        "\n",
        "        # Convertendo os valores para float\n",
        "        num1 = float(num1)\n",
        "        num2 = float(num2)\n",
        "\n",
        "        # Menu de operações\n",
        "        print(\"\\nEscolha a operação:\")\n",
        "        print(\"1. Adição (+)\")\n",
        "        print(\"2. Subtração (-)\")\n",
        "        print(\"3. Multiplicação (*)\")\n",
        "        print(\"4. Divisão (/)\")\n",
        "        print(\"5. Sair\")\n",
        "\n",
        "        escolha = input(\"Digite o número da operação desejada (1/2/3/4/5): \")\n",
        "\n",
        "        # Realizando a operação escolhida\n",
        "        if escolha == '1':\n",
        "            resultado = num1 + num2\n",
        "            print(f\"\\n{num1} + {num2} = {resultado}\\n\")\n",
        "        elif escolha == '2':\n",
        "            resultado = num1 - num2\n",
        "            print(f\"\\n{num1} - {num2} = {resultado}\\n\")\n",
        "        elif escolha == '3':\n",
        "            resultado = num1 * num2\n",
        "            print(f\"\\n{num1} * {num2} = {resultado}\\n\")\n",
        "        elif escolha == '4':\n",
        "            if num2 != 0:\n",
        "                resultado = num1 / num2\n",
        "                print(f\"\\n{num1} / {num2} = {resultado}\\n\")\n",
        "            else:\n",
        "                print(\"\\nErro: Divisão por zero não é permitida!\\n\")\n",
        "        elif escolha == '5':\n",
        "            print(\"Saindo da calculadora...\")\n",
        "            break\n",
        "        else:\n",
        "            print(\"Opção inválida! Tente novamente.\")\n",
        "\n",
        "# Chama a função da calculadora\n",
        "calculator()\n"
      ],
      "metadata": {
        "id": "joxWYwVL7l4x"
      },
      "execution_count": null,
      "outputs": []
    }
  ]
}